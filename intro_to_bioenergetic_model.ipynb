# Modeling Food Webs Bioenergetics

## Building the model

### The principle of mass balance

Physical system: a (closed) set of species = a community. Inherently dynamic, can display equilibrium dynamics, cycles, oscillations or chaos. We want to use
its dynamics to study its behavior facing different scenarios (invasions, extinctions, changes of body sizes, temperature...). Trophic interactions are responsible
in this system for the transfers of material (biomass) between species inside the system. To model these, we use the general principle of mass balance
(based on the physical principle of conservation of energy). If you know the quantity of matter that enters or exits a systems, you can deduce the flux,
that is the transfers within it, because there is an equilibrium, a balance between the materials (mass) that enter a system and the materials that leave the system.
      
### Growth

### Consumption and predation

## Parameterizing the model

## Assumptions and limits
