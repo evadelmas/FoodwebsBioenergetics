{
 "cells": [
  {
   "cell_type": "markdown",
   "metadata": {},
   "source": [
    "# Modeling Food Webs Bioenergetics\n",
    "\n",
    "## Mass Balance\n",
    "\n",
    "**Conservation of mass**: in a closed physical system mass can neither be produced nor destroyed.\n",
    "\n",
    "**Mass balance** is the application of the physical principle of conservation\n",
    "of mass to the analysis of systems flux an stocks. In short, by making sure\n",
    "that inputs and outputs add up, we can study the flux and stocks within a system.\n",
    "\n",
    "$$\n",
    "storage = inputs - outputs\n",
    "$$\n",
    "\n",
    "which is equivalent to the following equation if we add the time dimension:\n",
    "\n",
    "$$\n",
    "m(t+\\Delta t) = m(t) + m_{in}(t \\rightarrow \\Delta t) - m_{out}(t \\rightarrow \\Delta t)\n",
    "$$\n",
    "\n",
    "<div class=\"alert alert-block alert-info\">\n",
    "<b>Example: watershed</b> \n",
    "<ul>\n",
    "  <li>Input: Precipitation ($P$) and Groundwater flowing in ($GW_{in}$)</li>\n",
    "  <li>Output: Evaporation ($E$), Evapotranspiration ($ET$), Groundwater flowing out ($GW_{out}$) and Runoff ($R$)</li>\n",
    "  <li>Storage ($S$)</li>\n",
    "</ul> \n",
    "\n",
    "According to conservation of mass, $S = P + GW_{in} - (GW_{out} + E + ET + R)$\n",
    "</div>\n",
    "\n",
    "Inputs $m_{in}(t \\rightarrow \\Delta t)$ and outputs $m_{out}(t \\rightarrow \\Delta t)$\n",
    "can both be decomposed in multiple terms to reflect the diversity of mechanisms\n",
    "through which mass is transfered between the components of the system.\n",
    "\n",
    "Instead of working with stocks (unit: mass), it is often desirable to study flux,\n",
    "that is the rate at which mass enters/leaves the system. To do so, we can\n",
    "simply move $m(t)$ to the left side of the equation and divide each term by $\\Delta t$:\n",
    "\n",
    "$$\n",
    "\\frac{m(t+\\Delta t) - m(t)}{\\Delta t} = \\frac{m_{in}(t \\rightarrow \\Delta t)}{\\Delta t} - \\frac{m_{out}(t \\rightarrow \\Delta t)}{\\Delta t}\n",
    "$$\n",
    "\n",
    "By doing so, we have now the mass accumulation rate on the left side of the equation, and only\n",
    "inputs and outputs on the right side. This can be simplified:\n",
    "\n",
    "$$\n",
    "\\frac{\\Delta m}{\\Delta t} = m_{in} - m_{out}\n",
    "$$\n",
    "\n",
    "This is the basic equation behind the bioenergetic model.\n"
   ]
  },
  {
   "cell_type": "code",
   "execution_count": null,
   "metadata": {},
   "outputs": [],
   "source": []
  }
 ],
 "metadata": {
  "kernelspec": {
   "display_name": "Julia 1.0.3",
   "language": "julia",
   "name": "julia-1.0"
  },
  "language_info": {
   "file_extension": ".jl",
   "mimetype": "application/julia",
   "name": "julia",
   "version": "1.0.3"
  }
 },
 "nbformat": 4,
 "nbformat_minor": 2
}
