{
 "cells": [
  {
   "cell_type": "markdown",
   "metadata": {},
   "source": [
    "# Modeling Food Webs Bioenergetics\n",
    "\n",
    "## Mass Balance\n",
    "\n",
    "Conservation of mass: in a closed physical system mass can neither be produced nor destroyed.\n",
    "\n",
    "**Mass balance** is the application of the physical principle of conservation\n",
    "of mass to the analysis of systems flux an stocks. In short, by making sure\n",
    "that inputs and outputs add up, we can study the flux within a system.\n",
    "\n",
    "$$\n",
    "m(t+\\Delta t) = m(t) + m_{in}(t \\rightarrow \\Delta t) - m_{out}(t \\rightarrow \\Delta t)\n",
    "$$\n",
    "\n",
    "Inputs $m_{in}(t \\rightarrow \\Delta t)$ and outputs $m_{out}(t \\rightarrow \\Delta t)$\n",
    "can both be decomposed in multiple terms to reflect the diversity of mechanisms\n",
    "through which mass is transfered between the components of the system."
   ]
  },
  {
   "cell_type": "code",
   "execution_count": null,
   "metadata": {},
   "outputs": [],
   "source": []
  }
 ],
 "metadata": {
  "kernelspec": {
   "display_name": "Julia 1.0.3",
   "language": "julia",
   "name": "julia-1.0"
  },
  "language_info": {
   "file_extension": ".jl",
   "mimetype": "application/julia",
   "name": "julia",
   "version": "1.0.3"
  }
 },
 "nbformat": 4,
 "nbformat_minor": 2
}
